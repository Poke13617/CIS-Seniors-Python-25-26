{
 "cells": [
  {
   "cell_type": "markdown",
   "id": "4e65a163",
   "metadata": {},
   "source": [
    "## Working with Python Variables."
   ]
  },
  {
   "cell_type": "markdown",
   "id": "36e49f30",
   "metadata": {},
   "source": [
    "Sttructure of creating a variable:\n",
    "[variable_name] [assignment operator] [value]\n",
    "myVar = \"blah\"\n",
    "\n",
    "### What are the data types in python\n",
    "1. String - anything inside of \"\" or ''\n",
    "2. Boolean - True/False\n",
    "3. Integer - Whole numbers, even or odd\n",
    "4. Float - any number with a decimal."
   ]
  },
  {
   "cell_type": "code",
   "execution_count": 4,
   "id": "00aa47c4",
   "metadata": {},
   "outputs": [
    {
     "name": "stdout",
     "output_type": "stream",
     "text": [
      "3.9\n",
      "3.9\n"
     ]
    }
   ],
   "source": [
    "# Variable Reassignment\n",
    "\n",
    "# A student's GPA throughout high school\n",
    "student_gpa = 3.2 # Freshman year\n",
    "\n",
    "student_gpa = 3.4 # Sophomore year\n",
    "\n",
    "student_gpa = 3.7 # Junior year\n",
    "\n",
    "student_gpa = 3.9 # Senior year\n",
    "print(student_gpa)\n",
    "\n",
    "# OUTPUT: 3.9\n",
    "\n",
    "#If you need to store all data\n",
    "student_gpa_Fr = 3.2 # Freshman year\n",
    "\n",
    "student_gpa_So = 3.4 # Sophomore year\n",
    "\n",
    "student_gpa_Ju = 3.7 # Junior year\n",
    "\n",
    "student_gpa_se = 3.9 # Senior year\n",
    "print(student_gpa)\n"
   ]
  },
  {
   "cell_type": "code",
   "execution_count": 5,
   "id": "c575c6d5",
   "metadata": {},
   "outputs": [
    {
     "name": "stdout",
     "output_type": "stream",
     "text": [
      "True\n"
     ]
    }
   ],
   "source": [
    "# Sports Team Statistics\n",
    "\n",
    "#Basketball Team Variables\n",
    "team_name = \"Riverside Ravens\"\n",
    "wins = 18\n",
    "losses = 7\n",
    "points_scored = 1456\n",
    "point_allowed = 1298\n",
    "leading_scorer = \"Jordan Thompson\"\n",
    "average_point_per_game = 58.2\n",
    "championship_contender = True\n",
    "\n",
    "print(championship_contender)"
   ]
  },
  {
   "cell_type": "code",
   "execution_count": 6,
   "id": "5f8e60b7",
   "metadata": {},
   "outputs": [
    {
     "name": "stdout",
     "output_type": "stream",
     "text": [
      ".\n"
     ]
    }
   ],
   "source": [
    "# the input function\n",
    "\n",
    "#input(\"Enter your first name: \") #this line isn't being stored anywhere, so it doesn't work correctly.\n",
    "\n",
    "first_name = input(\"Enter your first name: \")\n",
    "\n",
    "print(first_name)"
   ]
  },
  {
   "cell_type": "markdown",
   "id": "6effb8ad",
   "metadata": {},
   "source": [
    "## 4 Main Computational Processes\n",
    "\n",
    "- Input\n",
    "- Output\n",
    "- Processing\n",
    "- Storage (Memory)"
   ]
  },
  {
   "cell_type": "markdown",
   "id": "5b5ea95b",
   "metadata": {},
   "source": []
  },
  {
   "cell_type": "markdown",
   "id": "da91b3eb",
   "metadata": {},
   "source": [
    "## Strings, Assignments, and Comments\n",
    "\n",
    "Data Types - consists of a set of values and a set of operations that can be performed on those values.\n",
    "\n",
    "A **Literal** - is the way a value of a data type looks to a programmer\n",
    "\n",
    "<table>\n",
    "    <tr>\n",
    "        <th>Type of Data</th>\n",
    "        <th>Python Type Name</th>\n",
    "        <th>Example Literals</th>\n",
    "    </tr>\n",
    "    <tr>\n",
    "        <td>Integers</td>\n",
    "        <td>int</td>\n",
    "        <td>-1, 0, 1, 365, -1457324</td>\n",
    "    </tr>\n",
    "    <tr>\n",
    "        <td>Real Numbers</td>\n",
    "        <td>float</td>\n",
    "        <td>-0.55, .3333, 3.14, 6.0, .5, 5.</td>\n",
    "    </tr>\n",
    "    <tr>\n",
    "        <td>Character Strings</td>\n",
    "        <td>str</td>\n",
    "        <td>\"Hello\", \"\", \" \", 'A', \"675\"</td>\n",
    "    </tr>\n",
    "</table>"
   ]
  },
  {
   "cell_type": "code",
   "execution_count": 7,
   "id": "a521d8f6",
   "metadata": {},
   "outputs": [
    {
     "name": "stdout",
     "output_type": "stream",
     "text": [
      "Hello there!\n",
      "675\n"
     ]
    }
   ],
   "source": [
    "hello = 'Hello there!'\n",
    "myInt = 675\n",
    "print(hello) # Literal is: Hello there!\n",
    "print(myInt) # Literal is: 675"
   ]
  },
  {
   "cell_type": "markdown",
   "id": "a07d2d3a",
   "metadata": {},
   "source": [
    "## Escape Sequences\n",
    "\n",
    "**Escape Sequence** - the way Python expresses special characters, such as the tab, the newline, and the backspace as literals\n",
    "\n",
    "<table>\n",
    "    <tr>\n",
    "    <th>Escape Sequence</th>\n",
    "    <th>Meaning</th>\n",
    "    </tr>\n",
    "    <tr>\n",
    "    <td>\\b</td>\n",
    "    <td>Backspace</td>\n",
    "    </tr>\n",
    "    <tr>\n",
    "    <td>\\n</td>\n",
    "    <td>Newline</td>\n",
    "    </tr>\n",
    "    <tr>\n",
    "    <td>\\t</td>\n",
    "    <td>Horizontal Tab</td>\n",
    "    </tr>\n",
    "    <tr>\n",
    "    <td>\\\\</td>\n",
    "    <td>the \\ character</td>\n",
    "    </tr>\n",
    "    <tr>\n",
    "    <td>\\'</td>\n",
    "    <td>Single quotation mark</td>\n",
    "    </tr>\n",
    "    <tr>\n",
    "    <td>\\\"</td>\n",
    "    <td>Double quotation mark</td>\n",
    "    </tr>\n",
    "</table>\n"
   ]
  },
  {
   "cell_type": "markdown",
   "id": "1251d413",
   "metadata": {},
   "source": [
    "## Initializing a variable or constant\n",
    "\n",
    "**Initializing** - This is the process of creating a variable and setting to a default value"
   ]
  },
  {
   "cell_type": "markdown",
   "id": "663d99bf",
   "metadata": {},
   "source": [
    "## Formatting text for output\n",
    "\n",
    "This process is for presenting required output in tabular format.\n",
    "**Field Width** - The total number of data characters and additional spaces for a given datum in a formatted string\n",
    "% = format operator"
   ]
  },
  {
   "cell_type": "code",
   "execution_count": 8,
   "id": "3d3d91c5",
   "metadata": {},
   "outputs": [
    {
     "name": "stdout",
     "output_type": "stream",
     "text": [
      "7 10000000\n",
      "8 100000000\n",
      "9 1000000000\n",
      "10 10000000000\n"
     ]
    }
   ],
   "source": [
    "for exponent in range (7,11):\n",
    "    print(exponent, 10 ** exponent)"
   ]
  },
  {
   "cell_type": "code",
   "execution_count": 9,
   "id": "dac91b00",
   "metadata": {},
   "outputs": [
    {
     "name": "stderr",
     "output_type": "stream",
     "text": [
      "UsageError: Line magic function `%` not found.\n"
     ]
    }
   ],
   "source": [
    "% = the format operator = format stringprint(\"four\")\n",
    "print('%6s' % 'four') \n",
    "print(\"%-6s\" % \"four\")\n",
    "    # % = format operator"
   ]
  },
  {
   "cell_type": "markdown",
   "id": "a4b4c265",
   "metadata": {},
   "source": [
    "## Define Iteration\n",
    "\n",
    "Repeating an action or process a predefined number of times. Also known as a specific type of iteration: **Definite Iteration** \n",
    "\n",
    "Perform an action or process until the program determines that it needs to stop: **Indefinite**\n",
    "\n",
    "#### Each of these Iterations uses a different type of Loop\n",
    "\n",
    "Definite Iteration --> for Loop\n",
    "Indefinite Iteration --> while Loop"
   ]
  },
  {
   "cell_type": "code",
   "execution_count": null,
   "id": "23dc0fdd",
   "metadata": {},
   "outputs": [
    {
     "name": "stdout",
     "output_type": "stream",
     "text": [
      "It's alive! It's alive! It's alive! It's alive! "
     ]
    }
   ],
   "source": [
    "# Execute a Statement a Given Number of Times\n",
    "\n",
    "for eachPass in range(4): # Iterate through the contained code 4 times\n",
    "    print(\"It's alive!\", end = \" \")\n",
    "    #Each time through the loop, counting 0-3\n",
    "    #print It's alive! followed by a blank space"
   ]
  },
  {
   "cell_type": "markdown",
   "id": "3e619a0c",
   "metadata": {},
   "source": [
    "## The structure of a for loop\n",
    "\n",
    "for (variable) in range(an integer expression):<br>&nbsp;&nbsp;&nbsp;&nbsp;\n",
    "    repeat any number of statements.\n",
    "    \n",
    "\n",
    "**loop header** - the line that starts with 'for'\n",
    "**loop body** - comprises the statements in the remaining lines code, below the header"
   ]
  },
  {
   "cell_type": "markdown",
   "id": "697bfb79",
   "metadata": {},
   "source": [
    "## Python's exponation operator"
   ]
  },
  {
   "cell_type": "code",
   "execution_count": null,
   "id": "44b252ff",
   "metadata": {},
   "outputs": [
    {
     "name": "stdout",
     "output_type": "stream",
     "text": [
      "\n",
      " The variable product is now  1\n",
      "2 4 8 \n",
      " The variable product is now  8\n"
     ]
    }
   ],
   "source": [
    "# Exponent Example\n",
    "\n",
    "number = 2\n",
    "exponent = 3\n",
    "product = 1\n",
    "\n",
    "print(\"\\n The variable product is now \", product)\n",
    "\n",
    "for eachPass in range(exponent):\n",
    "    product = product * number\n",
    "    print(product, end = \" \")\n",
    "    \n",
    "print(\"\\n The variable product is now \", product)"
   ]
  },
  {
   "cell_type": "markdown",
   "id": "c5ecdd93",
   "metadata": {},
   "source": [
    "## count-controlled loops\n",
    "\n",
    "**Count=controlled Loops** - Loops that count through a range of numbers"
   ]
  },
  {
   "cell_type": "code",
   "execution_count": null,
   "id": "c1704f5c",
   "metadata": {},
   "outputs": [
    {
     "name": "stdout",
     "output_type": "stream",
     "text": [
      "0 1 2 3 "
     ]
    }
   ],
   "source": [
    "for count in range(4):\n",
    "    print(count, end = \" \")"
   ]
  },
  {
   "cell_type": "code",
   "execution_count": null,
   "id": "5a153ab0",
   "metadata": {},
   "outputs": [
    {
     "name": "stdout",
     "output_type": "stream",
     "text": [
      "1 2 6 24 24\n"
     ]
    }
   ],
   "source": [
    "product = 1 # Initializing a counter\n",
    "\n",
    "for count in range(4):\n",
    "    product = product * (count + 1) # Off by 1 error\n",
    "    print(product, end = \" \")\n",
    "\n",
    "print(product)"
   ]
  },
  {
   "cell_type": "markdown",
   "id": "ab123d32",
   "metadata": {},
   "source": [
    "## Loop through a range of numbers:"
   ]
  },
  {
   "cell_type": "code",
   "execution_count": null,
   "id": "e0feaeba",
   "metadata": {},
   "outputs": [
    {
     "name": "stdout",
     "output_type": "stream",
     "text": [
      "1 2 6 24 \n",
      "\n",
      " 24\n"
     ]
    }
   ],
   "source": [
    "product = 1\n",
    "for count in range(1, 5): #(1, 5 ) - start on 1, 1 is the first numebr in the sequence\n",
    "                          #5 is the first number NOT in the sequence\n",
    "    product = product * count\n",
    "    print(product, end = \" \")\n",
    "\n",
    "print(\"\\n\\n\", product)"
   ]
  },
  {
   "cell_type": "markdown",
   "id": "ce066b17",
   "metadata": {},
   "source": [
    "## Loop head structure with upper and lower bounds\n",
    "for (variable) in range (lower bound, upper bound + 1):"
   ]
  },
  {
   "cell_type": "code",
   "execution_count": null,
   "id": "83c5af56",
   "metadata": {},
   "outputs": [
    {
     "name": "stdout",
     "output_type": "stream",
     "text": [
      "26\n"
     ]
    }
   ],
   "source": [
    "lower = int(input(\"Enter the lower bound: \"))\n",
    "upper = int(input(\"Enter the upper bound\"))\n",
    "\n",
    "theSum = 0 # Notice, we create thesum, because sum is a python keyword\n",
    "\n",
    "for number in range(lower, upper + 1):\n",
    "    theSum = theSum + number\n",
    "\n",
    "print(theSum)"
   ]
  },
  {
   "cell_type": "markdown",
   "id": "14ca3d80",
   "metadata": {},
   "source": [
    "## Augmented assignment"
   ]
  },
  {
   "cell_type": "markdown",
   "id": "15a8a80e",
   "metadata": {},
   "source": [
    "**Augmented assignment** - when the assignment symbol can be combined with the arithmetic and concatenation operators.\n",
    "\n",
    "structure:\n",
    "(variable) (operator) = (expression)"
   ]
  },
  {
   "cell_type": "code",
   "execution_count": null,
   "id": "2133ecb2",
   "metadata": {},
   "outputs": [
    {
     "name": "stdout",
     "output_type": "stream",
     "text": [
      "20\n"
     ]
    }
   ],
   "source": [
    "a = 17\n",
    "s = \"hi\"\n",
    "a += 3 #equivelant to a = a + 3\n",
    "print(a)\n",
    "\n",
    "a *= 3 # equivelant to a = a * 3\n",
    "print(a)\n",
    "\n",
    "a %= 3 #equivelant to a = a % 3\n",
    "print(a)"
   ]
  },
  {
   "cell_type": "code",
   "execution_count": null,
   "id": "cc169a96",
   "metadata": {},
   "outputs": [
    {
     "name": "stdout",
     "output_type": "stream",
     "text": [
      "hi there!\n"
     ]
    }
   ],
   "source": [
    "s += \" there!\" # equivelant to s = s + \" there!\"\n",
    "print(s)"
   ]
  },
  {
   "cell_type": "markdown",
   "id": "5e717767",
   "metadata": {},
   "source": [
    "## Loop Errors: Off-by-one- Error"
   ]
  },
  {
   "cell_type": "markdown",
   "id": "ed942563",
   "metadata": {},
   "source": [
    "**Off-by-One Error** - these are errors that result when programmer incorrectly specifies the upper bound for a loop."
   ]
  },
  {
   "cell_type": "code",
   "execution_count": null,
   "id": "eb21f082",
   "metadata": {},
   "outputs": [
    {
     "name": "stdout",
     "output_type": "stream",
     "text": [
      "1\n",
      "2\n",
      "3\n"
     ]
    }
   ],
   "source": [
    "# count from 1 through 4, we think\n",
    "for count in range (1, 4):\n",
    "    print(count)"
   ]
  },
  {
   "cell_type": "markdown",
   "id": "e925e5fe",
   "metadata": {},
   "source": [
    "## Traversing the Contents of a data sequence"
   ]
  },
  {
   "cell_type": "code",
   "execution_count": null,
   "id": "4cc86a8d",
   "metadata": {},
   "outputs": [
    {
     "name": "stdout",
     "output_type": "stream",
     "text": [
      "[0, 1, 2, 3]\n",
      "[1, 2, 3, 4]\n"
     ]
    }
   ],
   "source": [
    "print(list(range(4)))\n",
    "print(list(range(1, 5)))"
   ]
  },
  {
   "cell_type": "code",
   "execution_count": null,
   "id": "4b76338d",
   "metadata": {},
   "outputs": [
    {
     "name": "stdout",
     "output_type": "stream",
     "text": [
      "6 4 8 "
     ]
    }
   ],
   "source": [
    "# Use something other than the range function in the loop head\n",
    "for number in (6, 4, 8):\n",
    "    print(number, end=\" \")"
   ]
  },
  {
   "cell_type": "code",
   "execution_count": null,
   "id": "038136ea",
   "metadata": {},
   "outputs": [
    {
     "name": "stdout",
     "output_type": "stream",
     "text": [
      "H i   t h e r e ! "
     ]
    }
   ],
   "source": [
    "for character in \"Hi there!\":\n",
    "    print(character, end=\" \")"
   ]
  },
  {
   "cell_type": "markdown",
   "id": "e64cc157",
   "metadata": {},
   "source": [
    "## Specifying the steps in the range\n",
    "\n",
    "Another variant of the python range() function allows us to enter 3 values as arguments.\n",
    "\n",
    "range(val1, val2, val3)\n",
    "\n",
    "val1 - Is the first value in the range, starting value\n",
    "\n",
    "val2 - The first value NOT in the range. (val2 - 1)\n",
    "\n",
    "val3 - The step value - is the interval between the numbers used in the range"
   ]
  },
  {
   "cell_type": "code",
   "execution_count": null,
   "id": "26951891",
   "metadata": {},
   "outputs": [
    {
     "name": "stdout",
     "output_type": "stream",
     "text": [
      "[1, 2, 3, 4, 5]\n",
      "[1, 3, 5]\n",
      "[1, 4]\n"
     ]
    }
   ],
   "source": [
    "print(list(range(1, 6, 1))) # [1, 2, 3, 4, 5]\n",
    "print(list(range(1, 6, 2))) # [1, 3, 5]\n",
    "print(list(range(1, 6, 3))) # [1, 4]"
   ]
  },
  {
   "cell_type": "code",
   "execution_count": null,
   "id": "27086472",
   "metadata": {},
   "outputs": [
    {
     "name": "stdout",
     "output_type": "stream",
     "text": [
      "30\n"
     ]
    }
   ],
   "source": [
    "# let's suppose we want to cimpute a sum of the even numbers between 1 and 10.\n",
    "theSum = 0\n",
    "for count in range(2, 11, 2):\n",
    "    theSum += count\n",
    "\n",
    "print(theSum)"
   ]
  },
  {
   "cell_type": "markdown",
   "id": "696dda33",
   "metadata": {},
   "source": [
    "## Loops That Count Down\n",
    "\n",
    "* Until now, we have been counting up based on what our range is.\n",
    "\n"
   ]
  },
  {
   "cell_type": "code",
   "execution_count": null,
   "id": "6667fbe9",
   "metadata": {},
   "outputs": [
    {
     "name": "stdout",
     "output_type": "stream",
     "text": [
      "10 9 8 7 6 5 4 3 2 1 "
     ]
    }
   ],
   "source": [
    "for count in range(10, 0, -1):\n",
    "    print(count, end = \" \")\n",
    "# To count down, use negatives. 0 is also the first number not included in this list."
   ]
  },
  {
   "cell_type": "code",
   "execution_count": null,
   "id": "a8cefe02",
   "metadata": {},
   "outputs": [
    {
     "name": "stdout",
     "output_type": "stream",
     "text": [
      "[10, 9, 8, 7, 6, 5, 4, 3, 2, 1]\n"
     ]
    }
   ],
   "source": [
    "print(list(range(10, 0, -1)))"
   ]
  },
  {
   "cell_type": "markdown",
   "id": "844d77ee",
   "metadata": {},
   "source": [
    "## Back to formatting text for output"
   ]
  },
  {
   "cell_type": "code",
   "execution_count": null,
   "id": "7b4e02b2",
   "metadata": {},
   "outputs": [
    {
     "name": "stdout",
     "output_type": "stream",
     "text": [
      "7 10000000\n",
      "8 100000000\n",
      "9 1000000000\n",
      "10 10000000000\n"
     ]
    }
   ],
   "source": [
    "for exponent in range (7, 11):\n",
    "    print(exponent, 10 ** exponent)"
   ]
  },
  {
   "cell_type": "markdown",
   "id": "622c9b0a",
   "metadata": {},
   "source": [
    "### Format String and Format Operator"
   ]
  },
  {
   "cell_type": "code",
   "execution_count": null,
   "id": "a28cfa3b",
   "metadata": {},
   "outputs": [
    {
     "name": "stdout",
     "output_type": "stream",
     "text": [
      "7      10000000\n",
      "8     100000000\n",
      "9    1000000000\n",
      "10  10000000000\n"
     ]
    }
   ],
   "source": [
    "# <format string> % <datum>\n",
    "\n",
    "for exponent in range(7, 11):\n",
    "    print(\"%-3d%12d\" % (exponent, 10 ** exponent))\n",
    "    # %-3d = first column of the data output - go -3 spaces back from where the first and second column meet - the field justify left\n",
    "    # %12d = second column in the data output will be 12 characters wide (the Field Width), everything in the field will justify right"
   ]
  },
  {
   "cell_type": "code",
   "execution_count": null,
   "id": "35305767",
   "metadata": {},
   "outputs": [
    {
     "name": "stdout",
     "output_type": "stream",
     "text": [
      "Your salary is $100.0\n",
      "Your salary is $ 100.00\n"
     ]
    }
   ],
   "source": [
    "salary = 100.00\n",
    "print(\"Your salary is $\" + str(salary))\n",
    "print(\"Your salary is $ %0.2f\" % salary)"
   ]
  },
  {
   "cell_type": "code",
   "execution_count": null,
   "id": "9921e90a",
   "metadata": {},
   "outputs": [
    {
     "name": "stdout",
     "output_type": "stream",
     "text": [
      " 3.140\n"
     ]
    }
   ],
   "source": [
    "print(\"%6.3f\" % 3.14)\n",
    "# 6 total digits, with 3 digits after the decimal"
   ]
  },
  {
   "cell_type": "markdown",
   "id": "9b255d73",
   "metadata": {},
   "source": [
    "## Python if-else statements"
   ]
  },
  {
   "cell_type": "markdown",
   "id": "45f25835",
   "metadata": {},
   "source": [
    "if and if-else staments are \"Branching\" statements. They allow Python to examine or test a condition. Based on the results of that test, your code translation will branch in one direction or another. Analogy: Think of a fork in the road. You can go left or right\n",
    "\n",
    "It is also known as a selection statement.\n",
    "\n",
    "### How does Python test a conditional\n",
    "\n",
    "Python uses Booleans to test conditions. \n",
    "if 2 + 3 == 5: \n",
    "    run some code...\n",
    "else:\n",
    "    run some other code..."
   ]
  },
  {
   "cell_type": "markdown",
   "id": "ee01d505",
   "metadata": {},
   "source": [
    "Python will use simple comparison operators to do this:\n",
    "\n",
    "- ==  Equals\n",
    "- !=  Not Equals\n",
    "- <   Less than\n",
    "- \\>    Greater than\n",
    "- <=  Less than or equal\n",
    "- \\>=  Greater than or equal"
   ]
  },
  {
   "cell_type": "code",
   "execution_count": null,
   "id": "fa3da3e4",
   "metadata": {},
   "outputs": [
    {
     "name": "stdout",
     "output_type": "stream",
     "text": [
      "True\n",
      "False\n",
      "False\n",
      "False\n",
      "True\n"
     ]
    }
   ],
   "source": [
    "print(4 == 4)\n",
    "print(4 == 7)\n",
    "print(4 != 4)\n",
    "print(4 > 5)\n",
    "print(4 >= 3)\n",
    "print(\"A\" < \"B\")"
   ]
  },
  {
   "cell_type": "code",
   "execution_count": null,
   "id": "b2fd5b20",
   "metadata": {},
   "outputs": [
    {
     "name": "stdout",
     "output_type": "stream",
     "text": [
      "The radius is 1.4927053303604616\n"
     ]
    }
   ],
   "source": [
    "# Python if-else statement example\n",
    "import math\n",
    "area = float(input(\"Enter the area: \"))\n",
    "\n",
    "if area > 0:\n",
    "    radius = math.sqrt(area / math.pi) # run a sequence of <statements>\n",
    "    print(\"The radius is\", radius)\n",
    "else: # OTHERWISE\n",
    "    print(\"Error: The area must be a positive number.\") # run THIS sequence of <statements>"
   ]
  },
  {
   "cell_type": "code",
   "execution_count": null,
   "id": "85b72777",
   "metadata": {},
   "outputs": [
    {
     "ename": "ValueError",
     "evalue": "invalid literal for int() with base 10: ''",
     "output_type": "error",
     "traceback": [
      "\u001b[31m---------------------------------------------------------------------------\u001b[39m",
      "\u001b[31mValueError\u001b[39m                                Traceback (most recent call last)",
      "\u001b[36mCell\u001b[39m\u001b[36m \u001b[39m\u001b[32mIn[6]\u001b[39m\u001b[32m, line 2\u001b[39m\n\u001b[32m      1\u001b[39m \u001b[38;5;66;03m# This example prints the minimum and maximum of two input numbers\u001b[39;00m\n\u001b[32m----> \u001b[39m\u001b[32m2\u001b[39m first = \u001b[38;5;28;43mint\u001b[39;49m\u001b[43m(\u001b[49m\u001b[38;5;28;43minput\u001b[39;49m\u001b[43m(\u001b[49m\u001b[33;43m\"\u001b[39;49m\u001b[33;43mEnter the first number: \u001b[39;49m\u001b[33;43m\"\u001b[39;49m\u001b[43m)\u001b[49m\u001b[43m)\u001b[49m\n\u001b[32m      3\u001b[39m second = \u001b[38;5;28mint\u001b[39m(\u001b[38;5;28minput\u001b[39m(\u001b[33m\"\u001b[39m\u001b[33mEnter the second number: \u001b[39m\u001b[33m\"\u001b[39m))\n\u001b[32m      5\u001b[39m \u001b[38;5;28;01mif\u001b[39;00m first > second:\n",
      "\u001b[31mValueError\u001b[39m: invalid literal for int() with base 10: ''"
     ]
    }
   ],
   "source": [
    "# This example prints the minimum and maximum of two input numbers\n",
    "first = int(input(\"Enter the first number: \"))\n",
    "second = int(input(\"Enter the second number: \"))\n",
    "\n",
    "if first > second:\n",
    "    maximum = first\n",
    "    minimum = second\n",
    "else:\n",
    "    maximum = second\n",
    "    minimum = first\n",
    "\n",
    "print(\"Maximum: \", maximum)\n",
    "print(\"Minimum: \", minimum)"
   ]
  },
  {
   "cell_type": "code",
   "execution_count": null,
   "id": "57c60f96",
   "metadata": {},
   "outputs": [],
   "source": []
  },
  {
   "cell_type": "markdown",
   "id": "93b8e74d",
   "metadata": {},
   "source": [
    "## Python min and max functions"
   ]
  },
  {
   "cell_type": "code",
   "execution_count": null,
   "id": "f2a0afad",
   "metadata": {},
   "outputs": [],
   "source": [
    "# min() and max() will eliminate need for if-else\n",
    "first = int(input(\"Enter the first number: \"))\n",
    "second = int(input(\"Enter the second number: \"))\n",
    "print(\"Maximum: \", max(first, second))\n",
    "print(\"Minimum: \", min(first, second))"
   ]
  },
  {
   "cell_type": "markdown",
   "id": "af6a71c5",
   "metadata": {},
   "source": [
    "## One-way Selection Statement"
   ]
  },
  {
   "cell_type": "code",
   "execution_count": null,
   "id": "6e65ae04",
   "metadata": {},
   "outputs": [
    {
     "name": "stdout",
     "output_type": "stream",
     "text": [
      "25\n"
     ]
    }
   ],
   "source": [
    "x = 25\n",
    "if x < 0:\n",
    "    x = -x\n",
    "\n",
    "print(x)"
   ]
  },
  {
   "cell_type": "markdown",
   "id": "387be636",
   "metadata": {},
   "source": [
    "## Multi-Way if statements"
   ]
  },
  {
   "cell_type": "code",
   "execution_count": null,
   "id": "b858f9b5",
   "metadata": {},
   "outputs": [
    {
     "ename": "SyntaxError",
     "evalue": "invalid syntax (3312394977.py, line 4)",
     "output_type": "error",
     "traceback": [
      "  \u001b[36mCell\u001b[39m\u001b[36m \u001b[39m\u001b[32mIn[8]\u001b[39m\u001b[32m, line 4\u001b[39m\n\u001b[31m    \u001b[39m\u001b[31melif number > 79;\u001b[39m\n                    ^\n\u001b[31mSyntaxError\u001b[39m\u001b[31m:\u001b[39m invalid syntax\n"
     ]
    }
   ],
   "source": [
    "number = int(input(\"Enter the numeric grade: \"))\n",
    "if number > 89:\n",
    "    letter = 'A'\n",
    "elif number > 79;\n",
    "    letter = 'B'\n",
    "elif number > 69:\n",
    "    letter = 'C'\n",
    "else:\n",
    "    letter = 'F'\n",
    "\n",
    "print(\"The letter grade is: \", letter)"
   ]
  },
  {
   "cell_type": "markdown",
   "id": "d608f357",
   "metadata": {},
   "source": [
    "## Logical Operators and Compound Boolean Expressions\n",
    "\n",
    "Often times in the course of a Python script interpretation, we may have to check to see if 2 or more conditional statements are true before running a sequence of code."
   ]
  },
  {
   "cell_type": "code",
   "execution_count": null,
   "id": "35f296f2",
   "metadata": {},
   "outputs": [
    {
     "name": "stdout",
     "output_type": "stream",
     "text": [
      "\n"
     ]
    }
   ],
   "source": [
    "number = int(input(\"Enter the numeric grade: \"))\n",
    "if number > 100:\n",
    "    print(\"ERROR: grade must be between 100 and 0.\")\n",
    "elif number < 0:\n",
    "    print(\"ERROR: number must be between 100 and 0\")\n",
    "else:\n",
    "    # Run the same code as the example above\n",
    "    print(\"\")\n"
   ]
  },
  {
   "cell_type": "markdown",
   "id": "52c7fbcc",
   "metadata": {},
   "source": [
    "### Compund Boolean Expressions\n",
    "\n",
    "Testing multiple conditions at the same time\n",
    "\n",
    "To do this we use **Logical Operators**:\n",
    "\n",
    "- and\n",
    "- or\n",
    "- not"
   ]
  },
  {
   "cell_type": "code",
   "execution_count": null,
   "id": "3dfb6d3e",
   "metadata": {},
   "outputs": [
    {
     "name": "stdout",
     "output_type": "stream",
     "text": [
      "ERROR: number must be between 100 and 0\n",
      "Error\n"
     ]
    }
   ],
   "source": [
    "number = int(input(\"Enter the numeric grade: \"))\n",
    "if number > 100 or number < 0: # Using the or logic operator\n",
    "    print(\"ERROR: number must be between 100 and 0\")\n",
    "else:\n",
    "    print(\"The code from above.\")\n",
    "\n",
    "if number <= 0 and number >= 100:\n",
    "    print(\"The code from above\")\n",
    "else:\n",
    "    print(\"Error\")"
   ]
  },
  {
   "cell_type": "markdown",
   "id": "7eb11ebf",
   "metadata": {},
   "source": [
    "## Truth tables\n",
    "<h2>and Table</h2>\n",
    "<table>\n",
    "<tr>\n",
    "    <th>A</th>\n",
    "    <th>B</th>\n",
    "    <th>A and B</th>\n",
    "</tr>\n",
    "<tr>\n",
    "    <td>True</td>\n",
    "    <td>True</td>\n",
    "    <td>True</td>\n",
    "</tr>\n",
    "<tr>\n",
    "    <td>True</td>\n",
    "    <td>False</td>\n",
    "    <td>False</td>\n",
    "</tr>\n",
    "<tr>\n",
    "    <td>False</td>\n",
    "    <td>True</td>\n",
    "    <td>False</td>\n",
    "</tr>\n",
    "<tr>\n",
    "    <td>False</td>\n",
    "    <td>False</td>\n",
    "    <td>False</td>\n",
    "</tr>\n",
    "</table>\n",
    "<br>\n",
    "<h2>or Table</h2>\n",
    "<table>\n",
    "<tr>\n",
    "    <th>A</th>\n",
    "    <th>B</th>\n",
    "    <th>A or B</th>\n",
    "</tr>\n",
    "<tr>\n",
    "    <td>True</td>\n",
    "    <td>True</td>\n",
    "    <td>True</td>\n",
    "</tr>\n",
    "<tr>\n",
    "    <td>True</td>\n",
    "    <td>False</td>\n",
    "    <td>True</td>\n",
    "</tr>\n",
    "<tr>\n",
    "    <td>False</td>\n",
    "    <td>True</td>\n",
    "    <td>True</td>\n",
    "</tr>\n",
    "<tr>\n",
    "    <td>False</td>\n",
    "    <td>False</td>\n",
    "    <td>False</td>\n",
    "</tr>\n",
    "</table>\n",
    "\n",
    "<h2>not Table</h2>\n",
    "<table>\n",
    "<tr>\n",
    "<th>A</th>\n",
    "<th>not A</th>\n",
    "</tr>\n",
    "<tr>\n",
    "    <td>True</td>\n",
    "    <td>False</td>\n",
    "</tr>\n",
    "<tr>\n",
    "    <td>False</td>\n",
    "    <td>True</td>\n",
    "</tr>\n",
    "</table>"
   ]
  },
  {
   "cell_type": "markdown",
   "id": "17d0b528",
   "metadata": {},
   "source": [
    "## Short-Circuit Evaluation\n",
    "\n",
    "Python sometimes knows the value of a Boolean expression before it has evaluated all of the operands. For instance, in the expression A and B, if A is false, then so is the expression, and there is no need to evaluate B"
   ]
  },
  {
   "cell_type": "code",
   "execution_count": null,
   "id": "746b12e9",
   "metadata": {},
   "outputs": [
    {
     "name": "stdout",
     "output_type": "stream",
     "text": [
      "count = 0 or average <= 10\n"
     ]
    }
   ],
   "source": [
    "count = int(input(\"Enter the count: \"))\n",
    "theSum = int(input(\"Enter the sum: \"))\n",
    "if count > 0 and theSum // count > 10:\n",
    "    print(\"Average > 10\")\n",
    "else:\n",
    "    print(\"count = 0 or average <= 10\")"
   ]
  },
  {
   "cell_type": "markdown",
   "id": "ae173cfc",
   "metadata": {},
   "source": [
    "## Conditional Iteration: The while Loop\n"
   ]
  },
  {
   "cell_type": "code",
   "execution_count": null,
   "id": "8f1a6409",
   "metadata": {},
   "outputs": [],
   "source": [
    "### While Loop Structure\n",
    "\n",
    "# While <condition:\n",
    "    #<sequence of statements>"
   ]
  },
  {
   "cell_type": "markdown",
   "id": "b89174d1",
   "metadata": {},
   "source": [
    "## Infinite Loop\n",
    "\n",
    "a Loop that remains true, hence you never escape out of the loop"
   ]
  },
  {
   "cell_type": "markdown",
   "id": "de903198",
   "metadata": {},
   "source": [
    "The while Loop is also called an entry-control loop, because its condition is tested at the top of the loop."
   ]
  },
  {
   "cell_type": "markdown",
   "id": "d8ba566d",
   "metadata": {},
   "source": [
    "## while True Loops"
   ]
  },
  {
   "cell_type": "markdown",
   "id": "fe107337",
   "metadata": {},
   "source": [
    "You can simplify the while structure and improve its readability by turning it into a while True\n",
    "\n",
    "When using while True, you also can implement a break Statement"
   ]
  },
  {
   "cell_type": "markdown",
   "id": "423c314b",
   "metadata": {},
   "source": []
  }
 ],
 "metadata": {
  "kernelspec": {
   "display_name": "Python 3",
   "language": "python",
   "name": "python3"
  },
  "language_info": {
   "codemirror_mode": {
    "name": "ipython",
    "version": 3
   },
   "file_extension": ".py",
   "mimetype": "text/x-python",
   "name": "python",
   "nbconvert_exporter": "python",
   "pygments_lexer": "ipython3",
   "version": "3.12.1"
  }
 },
 "nbformat": 4,
 "nbformat_minor": 5
}
