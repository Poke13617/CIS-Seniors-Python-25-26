{
 "cells": [
  {
   "cell_type": "markdown",
   "id": "4e65a163",
   "metadata": {},
   "source": [
    "## Working with Python Variables."
   ]
  },
  {
   "cell_type": "markdown",
   "id": "36e49f30",
   "metadata": {},
   "source": [
    "Sttructure of creating a variable:\n",
    "[variable_name] [assignment operator] [value]\n",
    "myVar = \"blah\"\n",
    "\n",
    "### What are the data types in python\n",
    "1. String - anything inside of \"\" or ''\n",
    "2. Boolean - True/False\n",
    "3. Integer - Whole numbers, even or odd\n",
    "4. Float - any number with a decimal."
   ]
  },
  {
   "cell_type": "code",
   "execution_count": 3,
   "id": "00aa47c4",
   "metadata": {},
   "outputs": [
    {
     "name": "stdout",
     "output_type": "stream",
     "text": [
      "3.9\n",
      "3.9\n"
     ]
    }
   ],
   "source": [
    "# Variable Reassignment\n",
    "\n",
    "# A student's GPA throughout high school\n",
    "student_gpa = 3.2 # Freshman year\n",
    "\n",
    "student_gpa = 3.4 # Sophomore year\n",
    "\n",
    "student_gpa = 3.7 # Junior year\n",
    "\n",
    "student_gpa = 3.9 # Senior year\n",
    "print(student_gpa)\n",
    "\n",
    "# OUTPUT: 3.9\n",
    "\n",
    "#If you need to store all data\n",
    "student_gpa_Fr = 3.2 # Freshman year\n",
    "\n",
    "student_gpa_So = 3.4 # Sophomore year\n",
    "\n",
    "student_gpa_Ju = 3.7 # Junior year\n",
    "\n",
    "student_gpa_se = 3.9 # Senior year\n",
    "print(student_gpa)\n"
   ]
  },
  {
   "cell_type": "code",
   "execution_count": 4,
   "id": "c575c6d5",
   "metadata": {},
   "outputs": [
    {
     "name": "stdout",
     "output_type": "stream",
     "text": [
      "True\n"
     ]
    }
   ],
   "source": [
    "# Sports Team Statistics\n",
    "\n",
    "#Basketball Team Variables\n",
    "team_name = \"Riverside Ravens\"\n",
    "wins = 18\n",
    "losses = 7\n",
    "points_scored = 1456\n",
    "point_allowed = 1298\n",
    "leading_scorer = \"Jordan Thompson\"\n",
    "average_point_per_game = 58.2\n",
    "championship_contender = True\n",
    "\n",
    "print(championship_contender)"
   ]
  },
  {
   "cell_type": "code",
   "execution_count": 2,
   "id": "5f8e60b7",
   "metadata": {},
   "outputs": [
    {
     "name": "stdout",
     "output_type": "stream",
     "text": [
      "Mason\n"
     ]
    }
   ],
   "source": [
    "# the input function\n",
    "\n",
    "#input(\"Enter your first name: \") #this line isn't being stored anywhere, so it doesn't work correctly.\n",
    "\n",
    "first_name = input(\"Enter your first name: \")\n",
    "\n",
    "print(first_name)"
   ]
  },
  {
   "cell_type": "markdown",
   "id": "6effb8ad",
   "metadata": {},
   "source": [
    "## 4 Main Computational Processes\n",
    "\n",
    "- Input\n",
    "- Output\n",
    "- Processing\n",
    "- Storage (Memory)"
   ]
  },
  {
   "cell_type": "markdown",
   "id": "5b5ea95b",
   "metadata": {},
   "source": []
  },
  {
   "cell_type": "markdown",
   "id": "da91b3eb",
   "metadata": {},
   "source": [
    "## Strings, Assignments, and Comments\n",
    "\n",
    "Data Types - consists of a set of values and a set of operations that can be performed on those values.\n",
    "\n",
    "A **Literal** - is the way a value of a data type looks to a programmer\n",
    "\n",
    "<table>\n",
    "    <tr>\n",
    "        <th>Type of Data</th>\n",
    "        <th>Python Type Name</th>\n",
    "        <th>Example Literals</th>\n",
    "    </tr>\n",
    "    <tr>\n",
    "        <td>Integers</td>\n",
    "        <td>int</td>\n",
    "        <td>-1, 0, 1, 365, -1457324</td>\n",
    "    </tr>\n",
    "    <tr>\n",
    "        <td>Real Numbers</td>\n",
    "        <td>float</td>\n",
    "        <td>-0.55, .3333, 3.14, 6.0, .5, 5.</td>\n",
    "    </tr>\n",
    "    <tr>\n",
    "        <td>Character Strings</td>\n",
    "        <td>str</td>\n",
    "        <td>\"Hello\", \"\", \" \", 'A', \"675\"</td>\n",
    "    </tr>\n",
    "</table>"
   ]
  },
  {
   "cell_type": "code",
   "execution_count": 1,
   "id": "a521d8f6",
   "metadata": {},
   "outputs": [
    {
     "name": "stdout",
     "output_type": "stream",
     "text": [
      "Hello there!\n",
      "675\n"
     ]
    }
   ],
   "source": [
    "hello = 'Hello there!'\n",
    "myInt = 675\n",
    "print(hello) # Literal is: Hello there!\n",
    "print(myInt) # Literal is: 675"
   ]
  },
  {
   "cell_type": "markdown",
   "id": "a07d2d3a",
   "metadata": {},
   "source": [
    "## Escape Sequences\n",
    "\n",
    "**Escape Sequence** - the way Python expresses special characters, such as the tab, the newline, and the backspace as literals\n",
    "\n",
    "<table>\n",
    "    <tr>\n",
    "    <th>Escape Sequence</th>\n",
    "    <th>Meaning</th>\n",
    "    </tr>\n",
    "    <tr>\n",
    "    <td>\\b</td>\n",
    "    <td>Backspace</td>\n",
    "    </tr>\n",
    "    <tr>\n",
    "    <td>\\n</td>\n",
    "    <td>Newline</td>\n",
    "    </tr>\n",
    "    <tr>\n",
    "    <td>\\t</td>\n",
    "    <td>Horizontal Tab</td>\n",
    "    </tr>\n",
    "    <tr>\n",
    "    <td>\\\\</td>\n",
    "    <td>the \\ character</td>\n",
    "    </tr>\n",
    "    <tr>\n",
    "    <td>\\'</td>\n",
    "    <td>Single quotation mark</td>\n",
    "    </tr>\n",
    "    <tr>\n",
    "    <td>\\\"</td>\n",
    "    <td>Double quotation mark</td>\n",
    "    </tr>\n",
    "</table>\n"
   ]
  },
  {
   "cell_type": "code",
   "execution_count": null,
   "id": "1251d413",
   "metadata": {},
   "outputs": [],
   "source": []
  }
 ],
 "metadata": {
  "kernelspec": {
   "display_name": "Python 3",
   "language": "python",
   "name": "python3"
  },
  "language_info": {
   "codemirror_mode": {
    "name": "ipython",
    "version": 3
   },
   "file_extension": ".py",
   "mimetype": "text/x-python",
   "name": "python",
   "nbconvert_exporter": "python",
   "pygments_lexer": "ipython3",
   "version": "3.12.1"
  }
 },
 "nbformat": 4,
 "nbformat_minor": 5
}
