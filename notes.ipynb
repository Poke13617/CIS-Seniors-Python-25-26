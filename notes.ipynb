{
 "cells": [
  {
   "cell_type": "markdown",
   "id": "4e65a163",
   "metadata": {},
   "source": [
    "## Working with Python Variables."
   ]
  },
  {
   "cell_type": "markdown",
   "id": "36e49f30",
   "metadata": {},
   "source": [
    "Sttructure of creating a variable:\n",
    "[variable_name] [assignment operator] [value]\n",
    "myVar = \"blah\"\n",
    "\n",
    "### What are the data types in python\n",
    "1. String - anything inside of \"\" or ''\n",
    "2. Boolean - True/False\n",
    "3. Integer - Whole numbers, even or odd\n",
    "4. Float - any number with a decimal."
   ]
  },
  {
   "cell_type": "code",
   "execution_count": 3,
   "id": "00aa47c4",
   "metadata": {},
   "outputs": [
    {
     "name": "stdout",
     "output_type": "stream",
     "text": [
      "3.9\n",
      "3.9\n"
     ]
    }
   ],
   "source": [
    "# Variable Reassignment\n",
    "\n",
    "# A student's GPA throughout high school\n",
    "student_gpa = 3.2 # Freshman year\n",
    "\n",
    "student_gpa = 3.4 # Sophomore year\n",
    "\n",
    "student_gpa = 3.7 # Junior year\n",
    "\n",
    "student_gpa = 3.9 # Senior year\n",
    "print(student_gpa)\n",
    "\n",
    "# OUTPUT: 3.9\n",
    "\n",
    "#If you need to store all data\n",
    "student_gpa_Fr = 3.2 # Freshman year\n",
    "\n",
    "student_gpa_So = 3.4 # Sophomore year\n",
    "\n",
    "student_gpa_Ju = 3.7 # Junior year\n",
    "\n",
    "student_gpa_se = 3.9 # Senior year\n",
    "print(student_gpa)\n"
   ]
  },
  {
   "cell_type": "code",
   "execution_count": 4,
   "id": "c575c6d5",
   "metadata": {},
   "outputs": [
    {
     "name": "stdout",
     "output_type": "stream",
     "text": [
      "True\n"
     ]
    }
   ],
   "source": [
    "# Sports Team Statistics\n",
    "\n",
    "#Basketball Team Variables\n",
    "team_name = \"Riverside Ravens\"\n",
    "wins = 18\n",
    "losses = 7\n",
    "points_scored = 1456\n",
    "point_allowed = 1298\n",
    "leading_scorer = \"Jordan Thompson\"\n",
    "average_point_per_game = 58.2\n",
    "championship_contender = True\n",
    "\n",
    "print(championship_contender)"
   ]
  },
  {
   "cell_type": "code",
   "execution_count": 2,
   "id": "5f8e60b7",
   "metadata": {},
   "outputs": [
    {
     "name": "stdout",
     "output_type": "stream",
     "text": [
      "Mason\n"
     ]
    }
   ],
   "source": [
    "# the input function\n",
    "\n",
    "#input(\"Enter your first name: \") #this line isn't being stored anywhere, so it doesn't work correctly.\n",
    "\n",
    "first_name = input(\"Enter your first name: \")\n",
    "\n",
    "print(first_name)"
   ]
  },
  {
   "cell_type": "markdown",
   "id": "6effb8ad",
   "metadata": {},
   "source": [
    "## 4 Main Computational Processes\n",
    "\n",
    "- Input\n",
    "- Output\n",
    "- Processing\n",
    "- Storage (Memory)"
   ]
  },
  {
   "cell_type": "markdown",
   "id": "5b5ea95b",
   "metadata": {},
   "source": []
  },
  {
   "cell_type": "markdown",
   "id": "da91b3eb",
   "metadata": {},
   "source": [
    "## Strings, Assignments, and Comments\n",
    "\n",
    "Data Types - consists of a set of values and a set of operations that can be performed on those values.\n",
    "\n",
    "A **Literal** - is the way a value of a data type looks to a programmer\n",
    "\n",
    "<table>\n",
    "    <tr>\n",
    "        <th>Type of Data</th>\n",
    "        <th>Python Type Name</th>\n",
    "        <th>Example Literals</th>\n",
    "    </tr>\n",
    "    <tr>\n",
    "        <td>Integers</td>\n",
    "        <td>int</td>\n",
    "        <td>-1, 0, 1, 365, -1457324</td>\n",
    "    </tr>\n",
    "    <tr>\n",
    "        <td>Real Numbers</td>\n",
    "        <td>float</td>\n",
    "        <td>-0.55, .3333, 3.14, 6.0, .5, 5.</td>\n",
    "    </tr>\n",
    "    <tr>\n",
    "        <td>Character Strings</td>\n",
    "        <td>str</td>\n",
    "        <td>\"Hello\", \"\", \" \", 'A', \"675\"</td>\n",
    "    </tr>\n",
    "</table>"
   ]
  },
  {
   "cell_type": "code",
   "execution_count": 1,
   "id": "a521d8f6",
   "metadata": {},
   "outputs": [
    {
     "name": "stdout",
     "output_type": "stream",
     "text": [
      "Hello there!\n",
      "675\n"
     ]
    }
   ],
   "source": [
    "hello = 'Hello there!'\n",
    "myInt = 675\n",
    "print(hello) # Literal is: Hello there!\n",
    "print(myInt) # Literal is: 675"
   ]
  },
  {
   "cell_type": "markdown",
   "id": "a07d2d3a",
   "metadata": {},
   "source": [
    "## Escape Sequences\n",
    "\n",
    "**Escape Sequence** - the way Python expresses special characters, such as the tab, the newline, and the backspace as literals\n",
    "\n",
    "<table>\n",
    "    <tr>\n",
    "    <th>Escape Sequence</th>\n",
    "    <th>Meaning</th>\n",
    "    </tr>\n",
    "    <tr>\n",
    "    <td>\\b</td>\n",
    "    <td>Backspace</td>\n",
    "    </tr>\n",
    "    <tr>\n",
    "    <td>\\n</td>\n",
    "    <td>Newline</td>\n",
    "    </tr>\n",
    "    <tr>\n",
    "    <td>\\t</td>\n",
    "    <td>Horizontal Tab</td>\n",
    "    </tr>\n",
    "    <tr>\n",
    "    <td>\\\\</td>\n",
    "    <td>the \\ character</td>\n",
    "    </tr>\n",
    "    <tr>\n",
    "    <td>\\'</td>\n",
    "    <td>Single quotation mark</td>\n",
    "    </tr>\n",
    "    <tr>\n",
    "    <td>\\\"</td>\n",
    "    <td>Double quotation mark</td>\n",
    "    </tr>\n",
    "</table>\n"
   ]
  },
  {
   "cell_type": "markdown",
   "id": "1251d413",
   "metadata": {},
   "source": [
    "## Initializing a variable or constant\n",
    "\n",
    "**Initializing** - This is the process of creating a variable and setting to a default value"
   ]
  },
  {
   "cell_type": "markdown",
   "id": "663d99bf",
   "metadata": {},
   "source": [
    "## Formatting text for output\n",
    "\n",
    "This process is for presenting required output in tabular format.\n",
    "**Field Width** - The total number of data characters and additional spaces for a given datum in a formatted string\n",
    "% = format operator"
   ]
  },
  {
   "cell_type": "code",
   "execution_count": 1,
   "id": "3d3d91c5",
   "metadata": {},
   "outputs": [
    {
     "name": "stdout",
     "output_type": "stream",
     "text": [
      "7 10000000\n",
      "8 100000000\n",
      "9 1000000000\n",
      "10 10000000000\n"
     ]
    }
   ],
   "source": [
    "for exponent in range (7,11):\n",
    "    print(exponent, 10 ** exponent)"
   ]
  },
  {
   "cell_type": "code",
   "execution_count": null,
   "id": "dac91b00",
   "metadata": {},
   "outputs": [
    {
     "name": "stdout",
     "output_type": "stream",
     "text": [
      "four\n",
      "  four\n",
      "four  \n"
     ]
    }
   ],
   "source": [
    "% = the format operator = format stringprint(\"four\")\n",
    "print('%6s' % 'four') \n",
    "print(\"%-6s\" % \"four\")\n",
    "    # % = format operator"
   ]
  },
  {
   "cell_type": "markdown",
   "id": "a4b4c265",
   "metadata": {},
   "source": [
    "## Define Iteration\n",
    "\n",
    "Repeating an action or process a predefined number of times. Also known as a specific type of iteration: **Definite Iteration** \n",
    "\n",
    "Perform an action or process until the program determines that it needs to stop: **Indefinite**\n",
    "\n",
    "#### Each of these Iterations uses a different type of Loop\n",
    "\n",
    "Definite Iteration --> for Loop\n",
    "Indefinite Iteration --> while Loop"
   ]
  },
  {
   "cell_type": "code",
   "execution_count": 1,
   "id": "23dc0fdd",
   "metadata": {},
   "outputs": [
    {
     "name": "stdout",
     "output_type": "stream",
     "text": [
      "It's alive! It's alive! It's alive! It's alive! "
     ]
    }
   ],
   "source": [
    "# Execute a Statement a Given Number of Times\n",
    "\n",
    "for eachPass in range(4): # Iterate through the contained code 4 times\n",
    "    print(\"It's alive!\", end = \" \")\n",
    "    #Each time through the loop, counting 0-3\n",
    "    #print It's alive! followed by a blank space"
   ]
  },
  {
   "cell_type": "markdown",
   "id": "3e619a0c",
   "metadata": {},
   "source": [
    "## The structure of a for loop\n",
    "\n",
    "for (variable) in range(an integer expression):<br>&nbsp;&nbsp;&nbsp;&nbsp;\n",
    "    repeat any number of statements.\n",
    "    \n",
    "\n",
    "**loop header** - the line that starts with 'for'\n",
    "**loop body** - comprises the statements in the remaining lines code, below the header"
   ]
  },
  {
   "cell_type": "markdown",
   "id": "697bfb79",
   "metadata": {},
   "source": [
    "## Python's exponation operator"
   ]
  },
  {
   "cell_type": "code",
   "execution_count": 3,
   "id": "44b252ff",
   "metadata": {},
   "outputs": [
    {
     "name": "stdout",
     "output_type": "stream",
     "text": [
      "\n",
      " The variable product is now  1\n",
      "2 4 8 \n",
      " The variable product is now  8\n"
     ]
    }
   ],
   "source": [
    "# Exponent Example\n",
    "\n",
    "number = 2\n",
    "exponent = 3\n",
    "product = 1\n",
    "\n",
    "print(\"\\n The variable product is now \", product)\n",
    "\n",
    "for eachPass in range(exponent):\n",
    "    product = product * number\n",
    "    print(product, end = \" \")\n",
    "    \n",
    "print(\"\\n The variable product is now \", product)"
   ]
  },
  {
   "cell_type": "markdown",
   "id": "c5ecdd93",
   "metadata": {},
   "source": [
    "## count-controlled loops\n",
    "\n",
    "**Count=controlled Loops** - Loops that count through a range of numbers"
   ]
  },
  {
   "cell_type": "code",
   "execution_count": 4,
   "id": "c1704f5c",
   "metadata": {},
   "outputs": [
    {
     "name": "stdout",
     "output_type": "stream",
     "text": [
      "0 1 2 3 "
     ]
    }
   ],
   "source": [
    "for count in range(4):\n",
    "    print(count, end = \" \")"
   ]
  },
  {
   "cell_type": "code",
   "execution_count": 6,
   "id": "5a153ab0",
   "metadata": {},
   "outputs": [
    {
     "name": "stdout",
     "output_type": "stream",
     "text": [
      "1 2 6 24 24\n"
     ]
    }
   ],
   "source": [
    "product = 1 # Initializing a counter\n",
    "\n",
    "for count in range(4):\n",
    "    product = product * (count + 1) # Off by 1 error\n",
    "    print(product, end = \" \")\n",
    "\n",
    "print(product)"
   ]
  },
  {
   "cell_type": "markdown",
   "id": "ab123d32",
   "metadata": {},
   "source": [
    "## Loop through a range of numbers:"
   ]
  },
  {
   "cell_type": "code",
   "execution_count": 7,
   "id": "e0feaeba",
   "metadata": {},
   "outputs": [
    {
     "name": "stdout",
     "output_type": "stream",
     "text": [
      "1 2 6 24 \n",
      "\n",
      " 24\n"
     ]
    }
   ],
   "source": [
    "product = 1\n",
    "for count in range(1, 5): #(1, 5 ) - start on 1, 1 is the first numebr in the sequence\n",
    "                          #5 is the first number NOT in the sequence\n",
    "    product = product * count\n",
    "    print(product, end = \" \")\n",
    "\n",
    "print(\"\\n\\n\", product)"
   ]
  },
  {
   "cell_type": "markdown",
   "id": "ce066b17",
   "metadata": {},
   "source": [
    "## Loop head structure with upper and lower bounds\n",
    "for (variable) in range (lower bound, upper bound + 1):"
   ]
  },
  {
   "cell_type": "code",
   "execution_count": null,
   "id": "83c5af56",
   "metadata": {},
   "outputs": [
    {
     "name": "stdout",
     "output_type": "stream",
     "text": [
      "26\n"
     ]
    }
   ],
   "source": [
    "lower = int(input(\"Enter the lower bound: \"))\n",
    "upper = int(input(\"Enter the upper bound\"))\n",
    "\n",
    "theSum = 0 # Notice, we create thesum, because sum is a python keyword\n",
    "\n",
    "for number in range(lower, upper + 1):\n",
    "    theSum = theSum + number\n",
    "\n",
    "print(theSum)"
   ]
  },
  {
   "cell_type": "markdown",
   "id": "14ca3d80",
   "metadata": {},
   "source": [
    "## Augmented assignment"
   ]
  },
  {
   "cell_type": "markdown",
   "id": "15a8a80e",
   "metadata": {},
   "source": [
    "**Augmented assignment** - when the assignment symbol can be combined with the arithmetic and concatenation operators.\n",
    "\n",
    "structure:\n",
    "(variable) (operator) = (expression)"
   ]
  },
  {
   "cell_type": "code",
   "execution_count": null,
   "id": "2133ecb2",
   "metadata": {},
   "outputs": [
    {
     "name": "stdout",
     "output_type": "stream",
     "text": [
      "20\n"
     ]
    }
   ],
   "source": [
    "a = 17\n",
    "s = \"hi\"\n",
    "a += 3 #equivelant to a = a + 3\n",
    "print(a)\n",
    "\n",
    "a *= 3 # equivelant to a = a * 3\n",
    "print(a)\n",
    "\n",
    "a %= 3 #equivelant to a = a % 3\n",
    "print(a)"
   ]
  },
  {
   "cell_type": "code",
   "execution_count": 12,
   "id": "cc169a96",
   "metadata": {},
   "outputs": [
    {
     "name": "stdout",
     "output_type": "stream",
     "text": [
      "hi there!\n"
     ]
    }
   ],
   "source": [
    "s += \" there!\" # equivelant to s = s + \" there!\"\n",
    "print(s)"
   ]
  },
  {
   "cell_type": "markdown",
   "id": "5e717767",
   "metadata": {},
   "source": [
    "## Loop Errors: Off-by-one- Error"
   ]
  },
  {
   "cell_type": "markdown",
   "id": "ed942563",
   "metadata": {},
   "source": [
    "**Off-by-One Error** - these are errors that result when programmer incorrectly specifies the upper bound for a loop."
   ]
  },
  {
   "cell_type": "code",
   "execution_count": 13,
   "id": "eb21f082",
   "metadata": {},
   "outputs": [
    {
     "name": "stdout",
     "output_type": "stream",
     "text": [
      "1\n",
      "2\n",
      "3\n"
     ]
    }
   ],
   "source": [
    "# count from 1 through 4, we think\n",
    "for count in range (1, 4):\n",
    "    print(count)"
   ]
  },
  {
   "cell_type": "markdown",
   "id": "e925e5fe",
   "metadata": {},
   "source": [
    "## Traversing the Contents of a data sequence"
   ]
  },
  {
   "cell_type": "code",
   "execution_count": 15,
   "id": "4cc86a8d",
   "metadata": {},
   "outputs": [
    {
     "name": "stdout",
     "output_type": "stream",
     "text": [
      "[0, 1, 2, 3]\n",
      "[1, 2, 3, 4]\n"
     ]
    }
   ],
   "source": [
    "print(list(range(4)))\n",
    "print(list(range(1, 5)))"
   ]
  },
  {
   "cell_type": "code",
   "execution_count": 16,
   "id": "4b76338d",
   "metadata": {},
   "outputs": [
    {
     "name": "stdout",
     "output_type": "stream",
     "text": [
      "6 4 8 "
     ]
    }
   ],
   "source": [
    "# Use something other than the range function in the loop head\n",
    "for number in (6, 4, 8):\n",
    "    print(number, end=\" \")"
   ]
  },
  {
   "cell_type": "code",
   "execution_count": 17,
   "id": "038136ea",
   "metadata": {},
   "outputs": [
    {
     "name": "stdout",
     "output_type": "stream",
     "text": [
      "H i   t h e r e ! "
     ]
    }
   ],
   "source": [
    "for character in \"Hi there!\":\n",
    "    print(character, end=\" \")"
   ]
  },
  {
   "cell_type": "code",
   "execution_count": null,
   "id": "26951891",
   "metadata": {},
   "outputs": [],
   "source": []
  }
 ],
 "metadata": {
  "kernelspec": {
   "display_name": "Python 3",
   "language": "python",
   "name": "python3"
  },
  "language_info": {
   "codemirror_mode": {
    "name": "ipython",
    "version": 3
   },
   "file_extension": ".py",
   "mimetype": "text/x-python",
   "name": "python",
   "nbconvert_exporter": "python",
   "pygments_lexer": "ipython3",
   "version": "3.12.1"
  }
 },
 "nbformat": 4,
 "nbformat_minor": 5
}
